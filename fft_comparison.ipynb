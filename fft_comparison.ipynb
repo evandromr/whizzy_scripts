{
 "metadata": {
  "name": "",
  "signature": "sha256:8acd9453058711bb14707e6024beda39fdf928b2f04f2e874bbfe1534f73c6c4"
 },
 "nbformat": 3,
 "nbformat_minor": 0,
 "worksheets": [
  {
   "cells": [
    {
     "cell_type": "heading",
     "level": 1,
     "metadata": {},
     "source": [
      "FFT_comparison.ipynb"
     ]
    },
    {
     "cell_type": "heading",
     "level": 4,
     "metadata": {},
     "source": [
      "by Abigail Stevens, A [dot] L (dot) Stevens {at} uva |dot| nl"
     ]
    },
    {
     "cell_type": "heading",
     "level": 3,
     "metadata": {},
     "source": [
      "This code is designed to compare different FFT functions in Python: SciPy, NumPy, and pyFFTW. It checks that the results are the same to numerical accuracy and times how long each takes to run. Note that for the 2D arrays, we are still taking a 1D FFT down one of the axes."
     ]
    },
    {
     "cell_type": "code",
     "collapsed": false,
     "input": [
      "import pyfftw\n",
      "import scipy.fftpack as fftpack\n",
      "import numpy as np\n",
      "import numpy.fft as npfft\n",
      "import timeit"
     ],
     "language": "python",
     "metadata": {},
     "outputs": [],
     "prompt_number": 1
    },
    {
     "cell_type": "code",
     "collapsed": false,
     "input": [
      "nseg = 100\n",
      "n_bins = 8192\n",
      "rate1D = np.random.random_integers(0,10000,n_bins)\n",
      "rate2D = np.random.random_integers(0,10000,(n_bins, nseg))\n",
      "print \"Shape of 1D array:\", np.shape(rate1D)\n",
      "print \"Shape of 2D array:\", np.shape(rate2D)"
     ],
     "language": "python",
     "metadata": {},
     "outputs": [
      {
       "output_type": "stream",
       "stream": "stdout",
       "text": [
        "Shape of 1D array: (8192,)\n",
        "Shape of 2D array: (8192, 100)\n"
       ]
      }
     ],
     "prompt_number": 2
    },
    {
     "cell_type": "heading",
     "level": 3,
     "metadata": {},
     "source": [
      "Taking the 1D and 2D FFTs"
     ]
    },
    {
     "cell_type": "code",
     "collapsed": false,
     "input": [
      "scipy_1Dfft = fftpack.fft(rate1D)\n",
      "## Still only taking a FFT in one dimension, but over a 2D array\n",
      "scipy_2Dfft = fftpack.fft(rate2D, axis=0)"
     ],
     "language": "python",
     "metadata": {},
     "outputs": [],
     "prompt_number": 3
    },
    {
     "cell_type": "code",
     "collapsed": false,
     "input": [
      "numpy_1Dfft = npfft.fft(rate1D)\n",
      "numpy_2Dfft = npfft.fft(rate2D, axis=0)"
     ],
     "language": "python",
     "metadata": {},
     "outputs": [],
     "prompt_number": 4
    },
    {
     "cell_type": "code",
     "collapsed": false,
     "input": [
      "in1D_array = pyfftw.n_byte_align_empty(n_bins, 16, 'complex128')\n",
      "out1D_array = pyfftw.n_byte_align_empty(n_bins, 16, 'complex128')\n",
      "fft1D_object = pyfftw.FFTW(in1D_array, out1D_array, flags=('FFTW_MEASURE',))\n",
      "ifft1D_object = pyfftw.FFTW(in1D_array, out1D_array, direction='FFTW_BACKWARD', flags=('FFTW_MEASURE',), normalise_idft=False)\n",
      "\n",
      "in2D_array = pyfftw.n_byte_align_empty((n_bins,nseg), 16, 'complex128')\n",
      "out2D_array = pyfftw.n_byte_align_empty((n_bins,nseg), 16, 'complex128')\n",
      "fft2D_object = pyfftw.FFTW(in2D_array, out2D_array, flags=('FFTW_MEASURE',), threads=50, axes=(0,))\n",
      "ifft2D_object = pyfftw.FFTW(in2D_array, out2D_array, direction='FFTW_BACKWARD', flags=('FFTW_MEASURE',), threads=50, axes=(0,), normalise_idft=False)"
     ],
     "language": "python",
     "metadata": {},
     "outputs": [],
     "prompt_number": 5
    },
    {
     "cell_type": "code",
     "collapsed": false,
     "input": [
      "in1D_array[:] = rate1D + 0j\n",
      "pyfftw_1Dfft = fft1D_object(in1D_array)\n",
      "\n",
      "in2D_array[:] = rate2D + 0j\n",
      "pyfftw_2Dfft = fft2D_object(in2D_array)"
     ],
     "language": "python",
     "metadata": {},
     "outputs": [],
     "prompt_number": 6
    },
    {
     "cell_type": "heading",
     "level": 3,
     "metadata": {},
     "source": [
      "Checking that the results are the same, to numerical accuracy"
     ]
    },
    {
     "cell_type": "code",
     "collapsed": false,
     "input": [
      "print np.allclose(scipy_1Dfft, pyfftw_1Dfft)\n",
      "print np.allclose(numpy_1Dfft, pyfftw_1Dfft)\n",
      "print np.allclose(scipy_1Dfft, numpy_1Dfft)"
     ],
     "language": "python",
     "metadata": {},
     "outputs": [
      {
       "output_type": "stream",
       "stream": "stdout",
       "text": [
        "True\n",
        "True\n",
        "True\n"
       ]
      }
     ],
     "prompt_number": 7
    },
    {
     "cell_type": "code",
     "collapsed": false,
     "input": [
      "print np.allclose(scipy_2Dfft, pyfftw_2Dfft)\n",
      "print np.allclose(numpy_2Dfft, pyfftw_2Dfft)\n",
      "print np.allclose(scipy_2Dfft, numpy_2Dfft)"
     ],
     "language": "python",
     "metadata": {},
     "outputs": [
      {
       "output_type": "stream",
       "stream": "stdout",
       "text": [
        "True\n",
        "True\n",
        "True"
       ]
      },
      {
       "output_type": "stream",
       "stream": "stdout",
       "text": [
        "\n"
       ]
      }
     ],
     "prompt_number": 8
    },
    {
     "cell_type": "heading",
     "level": 3,
     "metadata": {},
     "source": [
      "Timing the functions"
     ]
    },
    {
     "cell_type": "code",
     "collapsed": false,
     "input": [
      "print \"SciPy, FFT, 1D:\"\n",
      "%timeit fftpack.fft(rate1D)\n",
      "print \"pyFFTW, FFT, 1D:\"\n",
      "%timeit fft1D_object(in1D_array)\n",
      "print \"NumPy, FFT, 1D:\"\n",
      "%timeit npfft.fft(rate1D)"
     ],
     "language": "python",
     "metadata": {},
     "outputs": [
      {
       "output_type": "stream",
       "stream": "stdout",
       "text": [
        "SciPy, FFT, 1D:\n",
        "10000 loops, best of 3: 113 \u00b5s per loop"
       ]
      },
      {
       "output_type": "stream",
       "stream": "stdout",
       "text": [
        "\n",
        "pyFFTW, FFT, 1D:\n",
        "1000 loops, best of 3: 260 \u00b5s per loop"
       ]
      },
      {
       "output_type": "stream",
       "stream": "stdout",
       "text": [
        "\n",
        "NumPy, FFT, 1D:\n",
        "1000 loops, best of 3: 210 \u00b5s per loop"
       ]
      },
      {
       "output_type": "stream",
       "stream": "stdout",
       "text": [
        "\n"
       ]
      }
     ],
     "prompt_number": 9
    },
    {
     "cell_type": "code",
     "collapsed": false,
     "input": [
      "print \"SciPy, FFT, 2D:\"\n",
      "%timeit fftpack.fft(rate2D, axis=0)\n",
      "print \"pyFFTW, FFT, 2D:\"\n",
      "%timeit fft2D_object(in2D_array)\n",
      "print \"NumPy, FFT, 2D:\"\n",
      "%timeit npfft.fft(rate2D, axis=0)"
     ],
     "language": "python",
     "metadata": {},
     "outputs": [
      {
       "output_type": "stream",
       "stream": "stdout",
       "text": [
        "SciPy, FFT, 2D:\n",
        "10 loops, best of 3: 17.2 ms per loop"
       ]
      },
      {
       "output_type": "stream",
       "stream": "stdout",
       "text": [
        "\n",
        "pyFFTW, FFT, 2D:\n",
        "10 loops, best of 3: 26.5 ms per loop"
       ]
      },
      {
       "output_type": "stream",
       "stream": "stdout",
       "text": [
        "\n",
        "NumPy, FFT, 2D:\n",
        "10 loops, best of 3: 33.4 ms per loop"
       ]
      },
      {
       "output_type": "stream",
       "stream": "stdout",
       "text": [
        "\n"
       ]
      }
     ],
     "prompt_number": 10
    },
    {
     "cell_type": "heading",
     "level": 3,
     "metadata": {},
     "source": [
      "And now, checking iFFT"
     ]
    },
    {
     "cell_type": "code",
     "collapsed": false,
     "input": [
      "print \"SciPy, iFFT, 1D:\"\n",
      "%timeit fftpack.ifft(scipy_1Dfft)\n",
      "print \"pyFFTW, iFFT, 1D:\"\n",
      "%timeit ifft1D_object(pyfftw_1Dfft)\n",
      "print \"NumPy, iFFT, 1D:\"\n",
      "%timeit npfft.ifft(numpy_1Dfft)"
     ],
     "language": "python",
     "metadata": {},
     "outputs": [
      {
       "output_type": "stream",
       "stream": "stdout",
       "text": [
        "SciPy, iFFT, 1D:\n",
        "1000 loops, best of 3: 200 \u00b5s per loop"
       ]
      },
      {
       "output_type": "stream",
       "stream": "stdout",
       "text": [
        "\n",
        "pyFFTW, iFFT, 1D:\n",
        "1000 loops, best of 3: 290 \u00b5s per loop"
       ]
      },
      {
       "output_type": "stream",
       "stream": "stdout",
       "text": [
        "\n",
        "NumPy, iFFT, 1D:\n",
        "1000 loops, best of 3: 279 \u00b5s per loop"
       ]
      },
      {
       "output_type": "stream",
       "stream": "stdout",
       "text": [
        "\n"
       ]
      }
     ],
     "prompt_number": 11
    },
    {
     "cell_type": "code",
     "collapsed": false,
     "input": [
      "print \"SciPy, iFFT, 2D:\"\n",
      "%timeit fftpack.ifft(scipy_2Dfft, axis=0)\n",
      "print \"pyFFTW, iFFT, 2D:\"\n",
      "%timeit ifft2D_object(pyfftw_2Dfft)\n",
      "print \"NumPy, iFFT, 2D:\"\n",
      "%timeit npfft.ifft(numpy_2Dfft, axis=0)"
     ],
     "language": "python",
     "metadata": {},
     "outputs": [
      {
       "output_type": "stream",
       "stream": "stdout",
       "text": [
        "SciPy, iFFT, 2D:\n",
        "10 loops, best of 3: 25.2 ms per loop"
       ]
      },
      {
       "output_type": "stream",
       "stream": "stdout",
       "text": [
        "\n",
        "pyFFTW, iFFT, 2D:\n",
        "10 loops, best of 3: 21.9 ms per loop"
       ]
      },
      {
       "output_type": "stream",
       "stream": "stdout",
       "text": [
        "\n",
        "NumPy, iFFT, 2D:\n",
        "10 loops, best of 3: 38.7 ms per loop"
       ]
      },
      {
       "output_type": "stream",
       "stream": "stdout",
       "text": [
        "\n"
       ]
      }
     ],
     "prompt_number": 12
    },
    {
     "cell_type": "heading",
     "level": 2,
     "metadata": {},
     "source": [
      "Done!"
     ]
    },
    {
     "cell_type": "code",
     "collapsed": false,
     "input": [],
     "language": "python",
     "metadata": {},
     "outputs": [],
     "prompt_number": 12
    }
   ],
   "metadata": {}
  }
 ]
}